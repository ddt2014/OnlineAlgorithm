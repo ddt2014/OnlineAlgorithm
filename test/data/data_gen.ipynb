{
 "cells": [
  {
   "cell_type": "code",
   "execution_count": 50,
   "id": "e3fa77e0",
   "metadata": {},
   "outputs": [],
   "source": [
    "import numpy as np\n",
    "import scipy.stats"
   ]
  },
  {
   "cell_type": "code",
   "execution_count": 56,
   "id": "69ed7616",
   "metadata": {},
   "outputs": [],
   "source": [
    "x = np.random.randn(1000000).round(6)\n",
    "np.savetxt(\"./x_data.txt\", x, fmt=\"%.6f\")"
   ]
  },
  {
   "cell_type": "code",
   "execution_count": 2,
   "id": "392d9b6c",
   "metadata": {},
   "outputs": [],
   "source": [
    "x = np.loadtxt(\"./x_data.txt\")"
   ]
  },
  {
   "cell_type": "code",
   "execution_count": 58,
   "id": "d40f82a5",
   "metadata": {},
   "outputs": [
    {
     "data": {
      "text/plain": [
       "-4.598116"
      ]
     },
     "execution_count": 58,
     "metadata": {},
     "output_type": "execute_result"
    }
   ],
   "source": [
    "np.min(x)"
   ]
  },
  {
   "cell_type": "code",
   "execution_count": 59,
   "id": "1bf65010",
   "metadata": {},
   "outputs": [
    {
     "data": {
      "text/plain": [
       "4.637063"
      ]
     },
     "execution_count": 59,
     "metadata": {},
     "output_type": "execute_result"
    }
   ],
   "source": [
    "np.max(x)"
   ]
  },
  {
   "cell_type": "code",
   "execution_count": 60,
   "id": "cc4608a0",
   "metadata": {},
   "outputs": [
    {
     "data": {
      "text/plain": [
       "-94.27323899999955"
      ]
     },
     "execution_count": 60,
     "metadata": {},
     "output_type": "execute_result"
    }
   ],
   "source": [
    "np.sum(x)"
   ]
  },
  {
   "cell_type": "code",
   "execution_count": 61,
   "id": "eb0864de",
   "metadata": {},
   "outputs": [
    {
     "data": {
      "text/plain": [
       "-9.427323899999954e-05"
      ]
     },
     "execution_count": 61,
     "metadata": {},
     "output_type": "execute_result"
    }
   ],
   "source": [
    "np.mean(x)"
   ]
  },
  {
   "cell_type": "code",
   "execution_count": 62,
   "id": "3fdd8a12",
   "metadata": {},
   "outputs": [
    {
     "data": {
      "text/plain": [
       "0.9992832212157458"
      ]
     },
     "execution_count": 62,
     "metadata": {},
     "output_type": "execute_result"
    }
   ],
   "source": [
    "np.var(x, ddof=1)"
   ]
  },
  {
   "cell_type": "code",
   "execution_count": 63,
   "id": "e00330d1",
   "metadata": {},
   "outputs": [
    {
     "name": "stdout",
     "output_type": "stream",
     "text": [
      "-0.0020535370387482015 0.0018649905607482024\n"
     ]
    }
   ],
   "source": [
    "confidence = 0.95\n",
    "n = len(x)\n",
    "m, se = np.mean(x), scipy.stats.sem(x)\n",
    "h = se *scipy.stats.t.ppf((1 + confidence) / 2, n - 1)\n",
    "print(m - h, m + h)"
   ]
  },
  {
   "cell_type": "code",
   "execution_count": 8,
   "id": "fd3504bb",
   "metadata": {},
   "outputs": [],
   "source": [
    "t= np.array([0.43424])"
   ]
  },
  {
   "cell_type": "code",
   "execution_count": 21,
   "id": "60e95d5c",
   "metadata": {},
   "outputs": [],
   "source": [
    "a=(x[0] - t)*(x[0] - t)"
   ]
  },
  {
   "cell_type": "code",
   "execution_count": 14,
   "id": "b7072ae1",
   "metadata": {},
   "outputs": [
    {
     "data": {
      "text/plain": [
       "array([0.31556688, 0.77533543])"
      ]
     },
     "execution_count": 14,
     "metadata": {},
     "output_type": "execute_result"
    }
   ],
   "source": [
    "(x[0] - t)*(x[0] - t)"
   ]
  },
  {
   "cell_type": "code",
   "execution_count": 20,
   "id": "309f9dfe",
   "metadata": {},
   "outputs": [],
   "source": [
    "b=(x[1] - t)*(x[1] - t)"
   ]
  },
  {
   "cell_type": "code",
   "execution_count": 22,
   "id": "f77f6be4",
   "metadata": {},
   "outputs": [
    {
     "data": {
      "text/plain": [
       "0.05284677850698685"
      ]
     },
     "execution_count": 22,
     "metadata": {},
     "output_type": "execute_result"
    }
   ],
   "source": [
    "(a+b)/2"
   ]
  },
  {
   "cell_type": "code",
   "execution_count": 5,
   "id": "5ffb3811",
   "metadata": {},
   "outputs": [
    {
     "data": {
      "text/plain": [
       "array([0.31556688, 0.77533543])"
      ]
     },
     "execution_count": 5,
     "metadata": {},
     "output_type": "execute_result"
    }
   ],
   "source": [
    "x"
   ]
  },
  {
   "cell_type": "code",
   "execution_count": 11,
   "id": "d7512232",
   "metadata": {},
   "outputs": [
    {
     "data": {
      "text/plain": [
       "0.5454511550000001"
      ]
     },
     "execution_count": 11,
     "metadata": {},
     "output_type": "execute_result"
    }
   ],
   "source": [
    "m = np.mean(x)\n",
    "m"
   ]
  },
  {
   "cell_type": "code",
   "execution_count": 9,
   "id": "01b639ae",
   "metadata": {},
   "outputs": [
    {
     "data": {
      "text/plain": [
       "0.05284677989227564"
      ]
     },
     "execution_count": 9,
     "metadata": {},
     "output_type": "execute_result"
    }
   ],
   "source": [
    "np.var(x)"
   ]
  },
  {
   "cell_type": "code",
   "execution_count": 16,
   "id": "780a4283",
   "metadata": {},
   "outputs": [
    {
     "data": {
      "text/plain": [
       "0.10569355978455128"
      ]
     },
     "execution_count": 16,
     "metadata": {},
     "output_type": "execute_result"
    }
   ],
   "source": [
    "((x[0] - m)**2 + (x[1] - m)**2) "
   ]
  },
  {
   "cell_type": "code",
   "execution_count": 3,
   "id": "76a6e101",
   "metadata": {},
   "outputs": [
    {
     "data": {
      "text/plain": [
       "0.22988427500000003"
      ]
     },
     "execution_count": 3,
     "metadata": {},
     "output_type": "execute_result"
    }
   ],
   "source": [
    "np.std(x)"
   ]
  },
  {
   "cell_type": "code",
   "execution_count": null,
   "id": "50002c65",
   "metadata": {},
   "outputs": [],
   "source": []
  }
 ],
 "metadata": {
  "kernelspec": {
   "display_name": "Python 3",
   "language": "python",
   "name": "python3"
  },
  "language_info": {
   "codemirror_mode": {
    "name": "ipython",
    "version": 3
   },
   "file_extension": ".py",
   "mimetype": "text/x-python",
   "name": "python",
   "nbconvert_exporter": "python",
   "pygments_lexer": "ipython3",
   "version": "3.6.9"
  }
 },
 "nbformat": 4,
 "nbformat_minor": 5
}
