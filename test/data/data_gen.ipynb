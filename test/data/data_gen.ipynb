{
 "cells": [
  {
   "cell_type": "code",
   "execution_count": 64,
   "id": "e3fa77e0",
   "metadata": {},
   "outputs": [],
   "source": [
    "import numpy as np\n",
    "import scipy.stats"
   ]
  },
  {
   "cell_type": "code",
   "execution_count": 56,
   "id": "69ed7616",
   "metadata": {},
   "outputs": [],
   "source": [
    "x = np.random.randn(1000000).round(6)\n",
    "np.savetxt(\"./x_data.txt\", x, fmt=\"%.6f\")\n",
    "y = np.random.randn(1000000).round(6)\n",
    "np.savetxt(\"./y_data.txt\", y, fmt=\"%.6f\")"
   ]
  },
  {
   "cell_type": "code",
   "execution_count": 65,
   "id": "392d9b6c",
   "metadata": {},
   "outputs": [],
   "source": [
    "x = np.loadtxt(\"./x_data.txt\")\n",
    "y = np.loadtxt(\"./y_data.txt\")"
   ]
  },
  {
   "cell_type": "code",
   "execution_count": 58,
   "id": "d40f82a5",
   "metadata": {},
   "outputs": [
    {
     "data": {
      "text/plain": [
       "-4.598116"
      ]
     },
     "execution_count": 58,
     "metadata": {},
     "output_type": "execute_result"
    }
   ],
   "source": [
    "np.min(x)"
   ]
  },
  {
   "cell_type": "code",
   "execution_count": 59,
   "id": "1bf65010",
   "metadata": {},
   "outputs": [
    {
     "data": {
      "text/plain": [
       "4.637063"
      ]
     },
     "execution_count": 59,
     "metadata": {},
     "output_type": "execute_result"
    }
   ],
   "source": [
    "np.max(x)"
   ]
  },
  {
   "cell_type": "code",
   "execution_count": 60,
   "id": "cc4608a0",
   "metadata": {},
   "outputs": [
    {
     "data": {
      "text/plain": [
       "-94.27323899999955"
      ]
     },
     "execution_count": 60,
     "metadata": {},
     "output_type": "execute_result"
    }
   ],
   "source": [
    "np.sum(x)"
   ]
  },
  {
   "cell_type": "code",
   "execution_count": 61,
   "id": "eb0864de",
   "metadata": {},
   "outputs": [
    {
     "data": {
      "text/plain": [
       "-9.427323899999954e-05"
      ]
     },
     "execution_count": 61,
     "metadata": {},
     "output_type": "execute_result"
    }
   ],
   "source": [
    "np.mean(x)"
   ]
  },
  {
   "cell_type": "code",
   "execution_count": 62,
   "id": "3fdd8a12",
   "metadata": {},
   "outputs": [
    {
     "data": {
      "text/plain": [
       "0.9992832212157458"
      ]
     },
     "execution_count": 62,
     "metadata": {},
     "output_type": "execute_result"
    }
   ],
   "source": [
    "np.var(x, ddof=1)"
   ]
  },
  {
   "cell_type": "code",
   "execution_count": 63,
   "id": "e00330d1",
   "metadata": {},
   "outputs": [
    {
     "name": "stdout",
     "output_type": "stream",
     "text": [
      "-0.0020535370387482015 0.0018649905607482024\n"
     ]
    }
   ],
   "source": [
    "confidence = 0.95\n",
    "n = len(x)\n",
    "m, se = np.mean(x), scipy.stats.sem(x)\n",
    "h = se *scipy.stats.t.ppf((1 + confidence) / 2, n - 1)\n",
    "print(m - h, m + h)"
   ]
  },
  {
   "cell_type": "code",
   "execution_count": null,
   "id": "50002c65",
   "metadata": {},
   "outputs": [],
   "source": []
  }
 ],
 "metadata": {
  "kernelspec": {
   "display_name": "Python 3",
   "language": "python",
   "name": "python3"
  },
  "language_info": {
   "codemirror_mode": {
    "name": "ipython",
    "version": 3
   },
   "file_extension": ".py",
   "mimetype": "text/x-python",
   "name": "python",
   "nbconvert_exporter": "python",
   "pygments_lexer": "ipython3",
   "version": "3.6.9"
  }
 },
 "nbformat": 4,
 "nbformat_minor": 5
}
